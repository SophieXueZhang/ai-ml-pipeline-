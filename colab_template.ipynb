{
  "cells": [
    {
      "cell_type": "raw",
      "metadata": {
        "vscode": {
          "languageId": "raw"
        }
      },
      "source": [
        "# AI项目 - Colab GPU 运行模板\n",
        "\n",
        "使用前请确保：\n",
        "1. 在菜单 **Runtime → Change runtime type** 里选择 **GPU**\n",
        "2. 修改下面的 `REPO_URL` 为你的GitHub仓库地址\n",
        "3. 如果是私有仓库，需要配置访问权限\n"
      ]
    },
    {
      "cell_type": "code",
      "execution_count": null,
      "metadata": {},
      "outputs": [],
      "source": [
        "#@title 检查GPU环境\n",
        "import sys, torch, json, os\n",
        "print(f\"Python {sys.version.split()[0]}\")\n",
        "print(f\"PyTorch {torch.__version__}\")\n",
        "print(f\"CUDA available: {torch.cuda.is_available()}\")\n",
        "if torch.cuda.is_available():\n",
        "    print(f\"GPU: {torch.cuda.get_device_name(0)}\")\n",
        "    print(f\"CUDA version: {torch.version.cuda}\")\n",
        "else:\n",
        "    print(\"⚠️ GPU不可用，请检查Runtime设置\")\n"
      ]
    },
    {
      "cell_type": "code",
      "execution_count": null,
      "metadata": {},
      "outputs": [],
      "source": [
        "#@title 克隆/更新项目代码\n",
        "import os\n",
        "\n",
        "# 🔧 你的GitHub仓库地址\n",
        "REPO_URL = \"https://github.com/SophieXueZhang/ai-ml-pipeline-.git\"\n",
        "PROJECT_DIR = \"/content/ai\"\n",
        "\n",
        "# 切换到content目录\n",
        "%cd /content\n",
        "\n",
        "# 如果项目目录不存在，克隆仓库；否则更新代码\n",
        "if not os.path.exists(PROJECT_DIR):\n",
        "    print(\"🔄 首次克隆仓库...\")\n",
        "    !git clone $REPO_URL $PROJECT_DIR\n",
        "else:\n",
        "    print(\"🔄 更新代码...\")\n",
        "    %cd $PROJECT_DIR\n",
        "    !git pull\n",
        "\n",
        "# 切换到项目目录\n",
        "%cd $PROJECT_DIR\n",
        "print(f\"✅ 当前目录: {os.getcwd()}\")\n",
        "!ls -la\n"
      ]
    },
    {
      "cell_type": "code",
      "execution_count": null,
      "metadata": {},
      "outputs": [],
      "source": [
        "#@title 安装依赖\n",
        "%cd /content/ai\n",
        "\n",
        "# 检查是否有requirements.txt\n",
        "if os.path.exists(\"requirements.txt\"):\n",
        "    print(\"📦 安装项目依赖...\")\n",
        "    %pip install -q -r requirements.txt\n",
        "    print(\"✅ 依赖安装完成\")\n",
        "else:\n",
        "    print(\"⚠️ 未找到requirements.txt文件\")\n",
        "\n",
        "# 安装常用的深度学习库（如果requirements.txt中没有）\n",
        "print(\"📦 确保基础库已安装...\")\n",
        "%pip install -q torch torchvision torchaudio transformers datasets\n",
        "print(\"✅ 基础库检查完成\")\n"
      ]
    },
    {
      "cell_type": "code",
      "execution_count": null,
      "metadata": {},
      "outputs": [],
      "source": [
        "#@title 挂载Google Drive（可选，用于存储大文件/数据集）\n",
        "from google.colab import drive\n",
        "drive.mount('/content/drive')\n",
        "print(\"✅ Google Drive已挂载到 /content/drive\")\n"
      ]
    },
    {
      "cell_type": "raw",
      "metadata": {
        "vscode": {
          "languageId": "raw"
        }
      },
      "source": [
        "## 🚀 运行你的代码\n",
        "\n",
        "下面的代码块可以根据你的项目需求修改：\n"
      ]
    },
    {
      "cell_type": "code",
      "execution_count": null,
      "metadata": {},
      "outputs": [],
      "source": [
        "#@title 运行医疗保险分类训练\n",
        "%cd /content/ai/healthcare\\ insurance/phase2_classification\n",
        "!python train_dit.py\n"
      ]
    },
    {
      "cell_type": "code",
      "execution_count": null,
      "metadata": {},
      "outputs": [],
      "source": [
        "#@title 运行文档信息提取训练\n",
        "%cd /content/ai/healthcare\\ insurance/phase3_extraction\n",
        "!python train_layoutlm.py\n"
      ]
    },
    {
      "cell_type": "code",
      "execution_count": null,
      "metadata": {},
      "outputs": [],
      "source": [
        "#@title 运行演示应用\n",
        "%cd /content/ai/healthcare\\ insurance/phase4_demo\n",
        "!python app.py\n"
      ]
    },
    {
      "cell_type": "raw",
      "metadata": {
        "vscode": {
          "languageId": "raw"
        }
      },
      "source": [
        "## 💡 使用提示\n",
        "\n",
        "1. **私有仓库访问**：\n",
        "   - 方法1：使用Personal Access Token\n",
        "     ```\n",
        "     REPO_URL = \"https://TOKEN@github.com/user/repo.git\"\n",
        "     ```\n",
        "   - 方法2：使用SSH密钥（需要额外配置）\n",
        "\n",
        "2. **大文件处理**：\n",
        "   - 数据集建议存储在Google Drive中\n",
        "   - 模型权重可以从Hugging Face Hub下载\n",
        "   - 避免将大文件提交到Git仓库\n",
        "\n",
        "3. **开发流程**：\n",
        "   - 本地开发 → `git push`\n",
        "   - Colab运行「克隆/更新项目代码」代码块\n",
        "   - 继续训练/测试\n",
        "\n",
        "4. **会话管理**：\n",
        "   - Colab会在12小时后自动断开\n",
        "   - 重要结果记得保存到Drive\n",
        "   - 重连后只需重新运行前几个设置代码块\n"
      ]
    }
  ],
  "metadata": {
    "language_info": {
      "name": "python"
    }
  },
  "nbformat": 4,
  "nbformat_minor": 2
}
