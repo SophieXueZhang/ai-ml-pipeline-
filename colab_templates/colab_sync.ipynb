{
  "cells": [
    {
      "cell_type": "raw",
      "metadata": {
        "vscode": {
          "languageId": "raw"
        }
      },
      "source": [
        "# 🚀 AI ML Pipeline - Colab GPU 训练环境\n",
        "\n",
        "这个笔记本帮助您将本地代码同步到Colab，并使用GPU进行训练。\n",
        "\n",
        "## 使用步骤\n",
        "1. 运行环境设置\n",
        "2. 同步GitHub代码\n",
        "3. 安装依赖\n",
        "4. 开始训练\n"
      ]
    },
    {
      "cell_type": "raw",
      "metadata": {
        "vscode": {
          "languageId": "raw"
        }
      },
      "source": [
        "## 1. 环境设置和检查\n"
      ]
    },
    {
      "cell_type": "code",
      "execution_count": null,
      "metadata": {},
      "outputs": [],
      "source": [
        "# 检查GPU可用性\n",
        "import torch\n",
        "import os\n",
        "import sys\n",
        "from google.colab import drive\n",
        "\n",
        "print(f\"PyTorch版本: {torch.__version__}\")\n",
        "print(f\"CUDA可用: {torch.cuda.is_available()}\")\n",
        "if torch.cuda.is_available():\n",
        "    print(f\"GPU设备: {torch.cuda.get_device_name(0)}\")\n",
        "    print(f\"GPU内存: {torch.cuda.get_device_properties(0).total_memory / 1024**3:.1f} GB\")\n",
        "else:\n",
        "    print(\"⚠️ 没有检测到GPU！请检查运行时设置\")\n"
      ]
    },
    {
      "cell_type": "code",
      "execution_count": null,
      "metadata": {},
      "outputs": [],
      "source": [
        "# 挂载Google Drive并创建工作目录\n",
        "drive.mount('/content/drive')\n",
        "\n",
        "work_dir = '/content/ai-ml-pipeline'\n",
        "os.makedirs(work_dir, exist_ok=True)\n",
        "os.chdir(work_dir)\n",
        "print(f\"工作目录: {os.getcwd()}\")\n"
      ]
    },
    {
      "cell_type": "raw",
      "metadata": {
        "vscode": {
          "languageId": "raw"
        }
      },
      "source": [
        "## 2. 快速设置（推荐）\n"
      ]
    },
    {
      "cell_type": "code",
      "execution_count": null,
      "metadata": {},
      "outputs": [],
      "source": [
        "# 一键设置整个环境\n",
        "# 请将下面的GitHub仓库地址替换为您的仓库\n",
        "GITHUB_REPO = \"\"  # 例如: \"https://github.com/username/ai-ml-pipeline.git\"\n",
        "\n",
        "if GITHUB_REPO:\n",
        "    import subprocess\n",
        "    result = subprocess.run(['git', 'clone', GITHUB_REPO, '.'], capture_output=True, text=True)\n",
        "    if result.returncode == 0:\n",
        "        print(\"✅ 代码已从GitHub同步\")\n",
        "    else:\n",
        "        print(f\"⚠️ 克隆失败: {result.stderr}\")\n",
        "else:\n",
        "    print(\"💡 请设置GITHUB_REPO变量或使用手动上传方式\")\n"
      ]
    },
    {
      "cell_type": "code",
      "execution_count": null,
      "metadata": {},
      "outputs": [],
      "source": [
        "# 安装依赖和设置环境\n",
        "import subprocess\n",
        "packages = ['torch', 'torchvision', 'torchaudio', 'transformers', 'datasets', 'wandb', 'tqdm', 'matplotlib', 'seaborn', 'scikit-learn']\n",
        "\n",
        "for package in packages:\n",
        "    subprocess.run(['pip', 'install', '-q', package], capture_output=True)\n",
        "\n",
        "# 添加项目路径到Python路径\n",
        "import sys\n",
        "sys.path.append('/content/ai-ml-pipeline/src')\n",
        "sys.path.append('/content/ai-ml-pipeline/utils')\n",
        "\n",
        "print(\"✅ 环境设置完成！\")\n"
      ]
    },
    {
      "cell_type": "raw",
      "metadata": {
        "vscode": {
          "languageId": "raw"
        }
      },
      "source": [
        "## 3. 开始训练\n",
        "\n",
        "现在您可以开始使用GPU进行训练了！\n"
      ]
    },
    {
      "cell_type": "code",
      "execution_count": null,
      "metadata": {},
      "outputs": [],
      "source": [
        "# 示例：启动训练\n",
        "print(\"🚀 准备开始训练...\")\n",
        "\n",
        "# 检查项目结构\n",
        "import os\n",
        "print(\"\\n📁 项目文件:\")\n",
        "for root, dirs, files in os.walk('.'):\n",
        "    dirs[:] = [d for d in dirs if not d.startswith('.') and d != '__pycache__']\n",
        "    level = root.replace('.', '').count(os.sep)\n",
        "    if level < 3:  # 限制显示深度\n",
        "        indent = ' ' * 2 * level\n",
        "        print(f\"{indent}{os.path.basename(root)}/\")\n",
        "\n",
        "# 如果有训练脚本，可以这样运行：\n",
        "# from src.training.train import main\n",
        "# main()\n",
        "\n",
        "print(\"\\n💡 提示: 在src/目录下编写您的训练代码\")\n",
        "print(\"💡 提示: 使用configs/目录管理训练配置\")\n",
        "print(\"💡 提示: 训练完成后记得保存模型到Google Drive\")\n"
      ]
    }
  ],
  "metadata": {
    "language_info": {
      "name": "python"
    }
  },
  "nbformat": 4,
  "nbformat_minor": 2
}
