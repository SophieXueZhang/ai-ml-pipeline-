{
  "cells": [
    {
      "cell_type": "raw",
      "metadata": {
        "vscode": {
          "languageId": "raw"
        }
      },
      "source": [
        "# LLaVA 环境设置与微调流程 - 精简版\n",
        "\n",
        "本notebook包含LLaVA模型环境设置和LoRA微调的核心步骤。\n"
      ]
    },
    {
      "cell_type": "raw",
      "metadata": {
        "vscode": {
          "languageId": "raw"
        }
      },
      "source": [
        "## 1. GPU环境检查\n"
      ]
    },
    {
      "cell_type": "code",
      "execution_count": null,
      "metadata": {},
      "outputs": [],
      "source": [
        "# 检查GPU状态\n",
        "!nvidia-smi\n"
      ]
    },
    {
      "cell_type": "raw",
      "metadata": {
        "vscode": {
          "languageId": "raw"
        }
      },
      "source": [
        "## 2. 安装依赖包\n"
      ]
    },
    {
      "cell_type": "code",
      "execution_count": null,
      "metadata": {},
      "outputs": [],
      "source": [
        "# 安装Kaggle用于数据下载\n",
        "%pip install kaggle\n"
      ]
    },
    {
      "cell_type": "code",
      "execution_count": null,
      "metadata": {},
      "outputs": [],
      "source": [
        "# 配置Kaggle API\n",
        "import os\n",
        "import json\n",
        "\n",
        "# 上传kaggle.json到根目录\n",
        "kaggle_config = {\n",
        "    \"username\": \"your_username\",\n",
        "    \"key\": \"your_api_key\"\n",
        "}\n",
        "\n",
        "# 创建.kaggle目录并保存配置\n",
        "os.makedirs(os.path.expanduser('~/.kaggle'), exist_ok=True)\n",
        "with open(os.path.expanduser('~/.kaggle/kaggle.json'), 'w') as f:\n",
        "    json.dump(kaggle_config, f)\n",
        "os.chmod(os.path.expanduser('~/.kaggle/kaggle.json'), 0o600)\n",
        "\n",
        "print(\"✓ Kaggle API配置完成\")\n"
      ]
    },
    {
      "cell_type": "raw",
      "metadata": {
        "vscode": {
          "languageId": "raw"
        }
      },
      "source": [
        "## 3. 克隆并安装LLaVA\n"
      ]
    },
    {
      "cell_type": "code",
      "execution_count": null,
      "metadata": {},
      "outputs": [],
      "source": [
        "# 克隆LLaVA仓库\n",
        "import os\n",
        "\n",
        "if os.path.exists(\"LLaVA\"):\n",
        "    print(\"✓ LLaVA仓库已存在\")\n",
        "else:\n",
        "    print(\"正在克隆LLaVA仓库...\")\n",
        "    !git clone https://github.com/haotian-liu/LLaVA.git\n"
      ]
    },
    {
      "cell_type": "code",
      "execution_count": null,
      "metadata": {},
      "outputs": [],
      "source": [
        "# 进入LLaVA目录并安装\n",
        "%cd LLaVA\n",
        "\n",
        "try:\n",
        "    import llava\n",
        "    print(\"✓ LLaVA已安装\")\n",
        "except ImportError:\n",
        "    print(\"正在安装LLaVA...\")\n",
        "    %pip install -e .\n"
      ]
    },
    {
      "cell_type": "raw",
      "metadata": {
        "vscode": {
          "languageId": "raw"
        }
      },
      "source": [
        "## 4. 下载Flickr30k数据集\n"
      ]
    },
    {
      "cell_type": "code",
      "execution_count": null,
      "metadata": {},
      "outputs": [],
      "source": [
        "# 下载和准备Flickr30k数据集\n",
        "import os\n",
        "import glob\n",
        "\n",
        "if os.path.exists('./data/flickr30k/Images/flickr30k_images'):\n",
        "    print(\"✓ Flickr30k数据集已存在\")\n",
        "    print(f\"找到 {len(glob.glob('./data/flickr30k/Images/flickr30k_images/*.jpg'))} 个图片文件\")\n",
        "else:\n",
        "    print(\"正在下载Flickr30k数据集...\")\n",
        "    !kaggle datasets download -d hsankesara/flickr-image-dataset\n",
        "    \n",
        "    if os.path.exists('flickr-image-dataset.zip'):\n",
        "        print(\"正在解压数据集...\")\n",
        "        !unzip -q flickr-image-dataset.zip -d ./data/\n",
        "        !rm flickr-image-dataset.zip\n",
        "    else:\n",
        "        print(\"警告: 数据集文件未找到\")\n"
      ]
    },
    {
      "cell_type": "raw",
      "metadata": {
        "vscode": {
          "languageId": "raw"
        }
      },
      "source": [
        "## 5. 转换数据格式\n"
      ]
    },
    {
      "cell_type": "code",
      "execution_count": null,
      "metadata": {},
      "outputs": [],
      "source": [
        "# 将Flickr30k数据转换为LLaVA格式\n",
        "import os\n",
        "import json\n",
        "\n",
        "converted_file = \"./data/flickr30k/train.json\"\n",
        "\n",
        "if os.path.exists(converted_file):\n",
        "    print(\"✓ Dataset already converted to LLaVA format.\")\n",
        "    try:\n",
        "        with open(converted_file, 'r') as f:\n",
        "            data = json.load(f)\n",
        "        print(f\"Found {len(data)} data records.\")\n",
        "    except Exception as e:\n",
        "        print(f\"Warning: Could not read {converted_file}: {e}\")\n",
        "else:\n",
        "    print(\"Converting Flickr30k dataset to LLaVA format...\")\n",
        "    \n",
        "    # 使用官方转换脚本\n",
        "    convert_script = \"llava/data/datasets/convert_flickr30k.py\"\n",
        "    if os.path.exists(convert_script):\n",
        "        print(\"Using official LLaVA conversion script...\")\n",
        "        try:\n",
        "            import subprocess\n",
        "            subprocess.run([\"python\", convert_script, \"--root\", \"./data/flickr30k\"], check=True)\n",
        "            print(\"✓ Official script executed successfully.\")\n",
        "        except Exception as e:\n",
        "            print(f\"Error executing official script: {e}\")\n",
        "    else:\n",
        "        print(\"Official conversion script not found. Please check LLaVA installation.\")\n"
      ]
    },
    {
      "cell_type": "raw",
      "metadata": {
        "vscode": {
          "languageId": "raw"
        }
      },
      "source": [
        "## 6. LoRA 微调（核心，≈ 1–2 天 GPU）\n",
        "\n",
        "### 参数配置\n",
        "\n",
        "| 子任务 | 建议参数 | 说明 |\n",
        "|-------|---------|------|\n",
        "| 模型 | `llava-hf/llava-1.6-vicuna-7b-hf` | 基础预训练模型 |\n",
        "| LoRA | rank=16, α=32, dropout=0.05 | 低秩适应参数 |\n",
        "| 量化 | 8-bit or QLoRA（节省显存） | 量化方式 |\n",
        "| 脚本 | `llava/train/train_mem.py` | 官方训练脚本 |\n"
      ]
    },
    {
      "cell_type": "code",
      "execution_count": null,
      "metadata": {},
      "outputs": [],
      "source": [
        "# LoRA 微调训练命令\n",
        "training_command = \"\"\"\n",
        "python llava/train/train_mem.py \\\\\n",
        "    --model-name llava-hf/llava-1.6-vicuna-7b-hf \\\\\n",
        "    --data ./data/flickr30k/train.json \\\\\n",
        "    --val-data ./data/flickr30k/val.json \\\\\n",
        "    --lora-r 16 --lora-alpha 32 --lora-dropout 0.05 \\\\\n",
        "    --output-dir checkpoints/lora_flickr_ep1 \\\\\n",
        "    --num-epochs 1 --batch-size 4 --lr 1e-4 --fp16\n",
        "\"\"\"\n",
        "\n",
        "print(\"LoRA 微调训练命令：\")\n",
        "print(training_command)\n",
        "\n",
        "print(\"\\n参数详解：\")\n",
        "print(\"--model-name: 使用的基础模型\")\n",
        "print(\"--data: 训练数据路径\") \n",
        "print(\"--val-data: 验证数据路径\")\n",
        "print(\"--lora-r: LoRA rank参数，控制低秩矩阵的维度\")\n",
        "print(\"--lora-alpha: LoRA alpha参数，缩放因子\")\n",
        "print(\"--lora-dropout: LoRA dropout率，防止过拟合\")\n"
      ]
    },
    {
      "cell_type": "code",
      "execution_count": null,
      "metadata": {},
      "outputs": [],
      "source": [
        "# 训练前环境检查\n",
        "import os\n",
        "import torch\n",
        "\n",
        "print(\"=== 训练环境检查 ===\")\n",
        "\n",
        "# 1. 检查GPU状态\n",
        "print(\"\\n1. GPU状态检查：\")\n",
        "if torch.cuda.is_available():\n",
        "    print(f\"✅ GPU可用\")\n",
        "    print(f\"GPU数量: {torch.cuda.device_count()}\")\n",
        "    print(f\"当前GPU: {torch.cuda.get_device_name(0)}\")\n",
        "    print(f\"显存总量: {torch.cuda.get_device_properties(0).total_memory / 1024**3:.1f}GB\")\n",
        "else:\n",
        "    print(\"❌ GPU不可用，建议在GPU环境中运行\")\n",
        "\n",
        "# 2. 检查数据文件\n",
        "print(\"\\n2. 数据文件检查：\")\n",
        "data_files = [\n",
        "    \"./data/flickr30k/train.json\",\n",
        "    \"./data/flickr30k/val.json\"\n",
        "]\n",
        "\n",
        "for file_path in data_files:\n",
        "    if os.path.exists(file_path):\n",
        "        print(f\"✅ {file_path} 存在\")\n",
        "    else:\n",
        "        print(f\"❌ {file_path} 不存在，请确保数据已准备\")\n",
        "\n",
        "# 3. 创建输出目录\n",
        "print(\"\\n3. 创建输出目录：\")\n",
        "output_dir = \"checkpoints/lora_flickr_ep1\"\n",
        "os.makedirs(output_dir, exist_ok=True)\n",
        "print(f\"✅ 输出目录已创建: {output_dir}\")\n",
        "\n",
        "print(\"\\n=== 准备就绪，可以开始训练 ===\")\n"
      ]
    },
    {
      "cell_type": "raw",
      "metadata": {
        "vscode": {
          "languageId": "raw"
        }
      },
      "source": [
        "## 7. 基线评估\n"
      ]
    },
    {
      "cell_type": "code",
      "execution_count": null,
      "metadata": {},
      "outputs": [],
      "source": [
        "# 生成预测与计算指标\n",
        "print(\"📊 评估步骤：\")\n",
        "\n",
        "# 1. 生成预测\n",
        "eval_command = \"\"\"\n",
        "python llava/eval/cli_eval.py \\\\\n",
        "    --ckpt checkpoints/lora_flickr_ep1 \\\\\n",
        "    --val-data ./data/flickr30k/val.json \\\\\n",
        "    --outfile pred.json\n",
        "\"\"\"\n",
        "print(\"1. 生成预测:\")\n",
        "print(eval_command)\n",
        "\n",
        "# 2. 计算指标\n",
        "metrics_command = \"\"\"\n",
        "python scripts/eval_caption.py \\\\\n",
        "    --pred-file pred.json \\\\\n",
        "    --gt-file ./data/flickr30k/val.json\n",
        "\"\"\"\n",
        "print(\"\\n2. 计算指标:\")\n",
        "print(metrics_command)\n",
        "\n",
        "print(\"\\n📋 记录对比: 原模型 vs LoRA微调后提升值\")\n"
      ]
    },
    {
      "cell_type": "raw",
      "metadata": {
        "vscode": {
          "languageId": "raw"
        }
      },
      "source": [
        "### 可视化演示\n"
      ]
    },
    {
      "cell_type": "code",
      "execution_count": null,
      "metadata": {},
      "outputs": [],
      "source": [
        "# 生成演示素材（5张图片 + 模型输出对比）\n",
        "import os, glob, random\n",
        "\n",
        "# 创建演示目录和选择图片\n",
        "os.makedirs(\"./assets\", exist_ok=True)\n",
        "image_files = glob.glob('./data/flickr30k/Images/flickr30k_images/*.jpg')\n",
        "\n",
        "if len(image_files) >= 5:\n",
        "    demo_images = random.sample(image_files, 5)\n",
        "    \n",
        "    # 创建演示文档模板\n",
        "    with open(\"./assets/week1_demo.md\", 'w') as f:\n",
        "        f.write(\"# LLaVA LoRA 微调演示\\n\\n\")\n",
        "        for i, img_path in enumerate(demo_images, 1):\n",
        "            img_name = os.path.basename(img_path)\n",
        "            f.write(f\"### 示例 {i}: {img_name}\\n\")\n",
        "            f.write(\"**原模型**: [待填入]\\n\")\n",
        "            f.write(\"**LoRA微调**: [待填入]\\n\\n\")\n",
        "    \n",
        "    print(\"✅ 演示文档已创建: ./assets/week1_demo.md\")\n",
        "    print(f\"✅ 选中演示图片: {[os.path.basename(p) for p in demo_images]}\")\n",
        "    print(\"📋 后续: 用训练后模型生成描述，填入对比结果\")\n",
        "else:\n",
        "    print(\"❌ 图片不足，请检查数据集\")\n"
      ]
    },
    {
      "cell_type": "raw",
      "metadata": {
        "vscode": {
          "languageId": "raw"
        }
      },
      "source": [
        "---\n",
        "\n",
        "## 📝 完整流程总结\n",
        "\n",
        "**环境设置** → **数据准备** → **LoRA微调** → **基线评估**\n",
        "\n",
        "### 关键输出文件：\n",
        "- `checkpoints/lora_flickr_ep1/` - 训练检查点\n",
        "- `pred.json` - 预测结果  \n",
        "- `assets/week1_demo.md` - 演示文档\n",
        "\n",
        "### 重要注意事项：\n",
        "⚠️ **硬件**: 推荐8GB+显存GPU，可调整batch_size  \n",
        "⚠️ **时间**: 单GPU训练约1-2天  \n",
        "⚠️ **监控**: 建议使用tensorboard监控训练进度\n",
        "\n",
        "---\n",
        "**🎉 LLaVA LoRA微调完整流程！** 素材可直接用于Hugging Face Space。\n"
      ]
    }
  ],
  "metadata": {
    "language_info": {
      "name": "python"
    }
  },
  "nbformat": 4,
  "nbformat_minor": 2
}
